{
 "cells": [
  {
   "cell_type": "code",
   "execution_count": 1,
   "metadata": {},
   "outputs": [
    {
     "data": {
      "text/plain": [
       "['./Sheet1.csv']"
      ]
     },
     "execution_count": 1,
     "metadata": {},
     "output_type": "execute_result"
    }
   ],
   "source": [
    "import pandas as pd\n",
    "\n",
    "# Load the Excel file\n",
    "excel_file_path = './DATA CONTOH UNTUK JURNAL3.xlsx'\n",
    "\n",
    "# Read the Excel file\n",
    "excel_data = pd.read_excel(excel_file_path, sheet_name=None)\n",
    "\n",
    "# Save each sheet as a CSV file\n",
    "csv_files = []\n",
    "for sheet_name, data in excel_data.items():\n",
    "    csv_file_path = f'./{sheet_name}.csv'\n",
    "    data.to_csv(csv_file_path, index=False)\n",
    "    csv_files.append(csv_file_path)\n",
    "\n",
    "csv_files\n"
   ]
  }
 ],
 "metadata": {
  "kernelspec": {
   "display_name": "Python 3",
   "language": "python",
   "name": "python3"
  },
  "language_info": {
   "codemirror_mode": {
    "name": "ipython",
    "version": 3
   },
   "file_extension": ".py",
   "mimetype": "text/x-python",
   "name": "python",
   "nbconvert_exporter": "python",
   "pygments_lexer": "ipython3",
   "version": "3.10.11"
  }
 },
 "nbformat": 4,
 "nbformat_minor": 2
}
