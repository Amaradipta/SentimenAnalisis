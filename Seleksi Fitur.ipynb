{
 "cells": [
  {
   "cell_type": "code",
   "execution_count": 31,
   "metadata": {},
   "outputs": [],
   "source": [
    "import pandas as pd\n",
    "from sklearn.feature_extraction.text import CountVectorizer\n",
    "from sklearn.feature_selection import SelectKBest, mutual_info_classif\n",
    "from sklearn.model_selection import train_test_split\n",
    "from sklearn.svm import SVC\n",
    "from sklearn.metrics import accuracy_score\n",
    "import time"
   ]
  },
  {
   "cell_type": "code",
   "execution_count": 32,
   "metadata": {},
   "outputs": [],
   "source": [
    "# 1. Membaca Data\n",
    "data = pd.read_csv(\"./Hasil_Labeling_imdb.csv\")"
   ]
  },
  {
   "cell_type": "code",
   "execution_count": 33,
   "metadata": {},
   "outputs": [],
   "source": [
    "# 2. Pemisahan Fitur dan Label\n",
    "X = data['reviews']\n",
    "y = data['sentiment']"
   ]
  },
  {
   "cell_type": "code",
   "execution_count": 34,
   "metadata": {},
   "outputs": [],
   "source": [
    "# 3. Pembagian Data\n",
    "X_train, X_test, y_train, y_test = train_test_split(X, y, test_size=0.2, random_state=42)"
   ]
  },
  {
   "cell_type": "code",
   "execution_count": 35,
   "metadata": {},
   "outputs": [],
   "source": [
    "# 4. Ekstraksi Fitur (Contoh: menggunakan CountVectorizer untuk n-gram)\n",
    "vectorizer = CountVectorizer(ngram_range=(1, 2))  # Ubah ngram_range sesuai kebutuhan\n",
    "X_train_vectorized = vectorizer.fit_transform(X_train)\n",
    "X_test_vectorized = vectorizer.transform(X_test)"
   ]
  },
  {
   "cell_type": "code",
   "execution_count": 37,
   "metadata": {},
   "outputs": [
    {
     "name": "stdout",
     "output_type": "stream",
     "text": [
      "Waktu eksekusi untuk seleksi fitur menggunakan Mutual Information: 3446.30 detik\n"
     ]
    }
   ],
   "source": [
    "start_time = time.time()\n",
    "\n",
    "mi_scores = mutual_info_classif(X_train_vectorized, y_train)\n",
    "k_best_features = sorted(range(len(mi_scores)), key=lambda i: mi_scores[i], reverse=True)[:10] # Ambil 1000 fitur terbaik\n",
    "X_train_mi = X_train_vectorized[:, k_best_features]\n",
    "X_test_mi = X_test_vectorized[:, k_best_features]\n",
    "\n",
    "end_time = time.time()\n",
    "print(\"Waktu eksekusi untuk seleksi fitur menggunakan Mutual Information: {:.2f} detik\".format(end_time - start_time))"
   ]
  },
  {
   "cell_type": "code",
   "execution_count": 38,
   "metadata": {},
   "outputs": [
    {
     "name": "stdout",
     "output_type": "stream",
     "text": [
      "Akurasi menggunakan Mutual Information setelah seleksi fitur: 0.84\n"
     ]
    }
   ],
   "source": [
    "# 6. Pelatihan Model SVM dengan Fitur Mutual Information\n",
    "svm_model_mi = SVC(kernel='linear')\n",
    "svm_model_mi.fit(X_train_mi, y_train)\n",
    "y_pred_mi = svm_model_mi.predict(X_test_mi)\n",
    "accuracy_mi = accuracy_score(y_test, y_pred_mi)\n",
    "print(\"Akurasi menggunakan Mutual Information setelah seleksi fitur: {:.2f}\".format(accuracy_mi))"
   ]
  },
  {
   "cell_type": "code",
   "execution_count": 39,
   "metadata": {},
   "outputs": [],
   "source": [
    "# 6. Seleksi Fitur menggunakan Chi-square\n",
    "chi2_selector = SelectKBest(score_func=chi2, k=1000)  # Ubah nilai k sesuai kebutuhan\n",
    "X_train_chi2 = chi2_selector.fit_transform(X_train_vectorized, y_train)\n",
    "X_test_chi2 = chi2_selector.transform(X_test_vectorized)"
   ]
  },
  {
   "cell_type": "code",
   "execution_count": 40,
   "metadata": {},
   "outputs": [
    {
     "name": "stdout",
     "output_type": "stream",
     "text": [
      "Accuracy using mutual information: 0.8367551326990486\n"
     ]
    }
   ],
   "source": [
    "# 7. Pelatihan Model SVM dengan Fitur Mutual Information\n",
    "svm_model_mi = SVC(kernel='linear')\n",
    "svm_model_mi.fit(X_train_mi, y_train)\n",
    "y_pred_mi = svm_model_mi.predict(X_test_mi)\n",
    "accuracy_mi = accuracy_score(y_test, y_pred_mi)\n",
    "print(\"Accuracy using mutual information:\", accuracy_mi)"
   ]
  },
  {
   "cell_type": "code",
   "execution_count": 41,
   "metadata": {},
   "outputs": [
    {
     "name": "stdout",
     "output_type": "stream",
     "text": [
      "Accuracy using chi-square: 0.8868302453680521\n"
     ]
    }
   ],
   "source": [
    "# 8. Pelatihan Model SVM dengan Fitur Chi-square\n",
    "svm_model_chi2 = SVC(kernel='linear')\n",
    "svm_model_chi2.fit(X_train_chi2, y_train)\n",
    "y_pred_chi2 = svm_model_chi2.predict(X_test_chi2)\n",
    "accuracy_chi2 = accuracy_score(y_test, y_pred_chi2)\n",
    "print(\"Accuracy using chi-square:\", accuracy_chi2)"
   ]
  }
 ],
 "metadata": {
  "kernelspec": {
   "display_name": "Python 3",
   "language": "python",
   "name": "python3"
  },
  "language_info": {
   "codemirror_mode": {
    "name": "ipython",
    "version": 3
   },
   "file_extension": ".py",
   "mimetype": "text/x-python",
   "name": "python",
   "nbconvert_exporter": "python",
   "pygments_lexer": "ipython3",
   "version": "3.10.11"
  }
 },
 "nbformat": 4,
 "nbformat_minor": 2
}
